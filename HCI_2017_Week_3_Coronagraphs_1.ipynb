{
 "cells": [
  {
   "cell_type": "markdown",
   "metadata": {},
   "source": [
    "# HCI Week 3 - Coronagraphs Part I\n",
    "*Matthew Kenworthy // Leiden Observatory*"
   ]
  },
  {
   "cell_type": "markdown",
   "metadata": {},
   "source": [
    "Today we cover encircled energy plots and simulate a simple Lyot coronagraph. Read through the functions defined in the block below, as they may help with the exercises."
   ]
  },
  {
   "cell_type": "code",
   "execution_count": 1,
   "metadata": {
    "collapsed": true
   },
   "outputs": [],
   "source": [
    "import numpy as np\n",
    "import matplotlib.pyplot as plt\n",
    "%matplotlib inline\n",
    "\n",
    "import matplotlib as mpl\n",
    "mpl.rc('image', interpolation='nearest', origin='lower')\n",
    "\n",
    "\n",
    "def displC(c,trim=0):\n",
    "    # displC - display a Complex number c as four plots\n",
    "    #          as a (Real, Imaginary) pair and as\n",
    "    #          an Amplitude, Phase plot\n",
    "    #          optionally cut out the central square with size trim by trim pixels   \n",
    "    c2 = np.copy(c)\n",
    "    if (trim>0): # if the user specifies a trim value, cut out the centre of the image\n",
    "        (nx,ny) = c.shape\n",
    "        dx = np.array((nx-trim) / 2).astype(int)\n",
    "        dy = np.array((nx-trim) / 2).astype(int)\n",
    "        c2 = c[dx:dx+trim,dy:dy+trim]\n",
    "        \n",
    "    # set up the plot panels\n",
    "    fig=plt.figure(figsize=(10,8))\n",
    "    axre = fig.add_subplot(221)\n",
    "    axim = fig.add_subplot(222)\n",
    "    axamp = fig.add_subplot(223)\n",
    "    axpha = fig.add_subplot(224)\n",
    "    # plot out the panels\n",
    "    im = axre.imshow(c2.real)\n",
    "    im = axim.imshow(c2.imag)\n",
    "    im = axamp.imshow(np.abs(c2))\n",
    "    im = axpha.imshow(np.angle(c2))\n",
    "    \n",
    "    axre.set_title('Real')\n",
    "    axim.set_title('Imag')\n",
    "    axamp.set_title('Amplitude')\n",
    "    axpha.set_title('Phase')\n",
    "    plt.show()\n",
    "\n",
    "def padcplx(c,pad=5):\n",
    "    # padcplx - puts a Complex array in the centre of a zero-filled Complex array\n",
    "    #           pad defines the padding multiplier for the output array\n",
    "    (nx, ny) = c.shape\n",
    "    bignx = nx*pad\n",
    "    bigny = ny*pad\n",
    "    big_c = np.zeros((bignx,bigny),dtype=complex)\n",
    "\n",
    "    dx = np.array((nx * (pad-1)) / 2).astype(int)\n",
    "    dy = np.array((ny * (pad-1)) / 2).astype(int)\n",
    "\n",
    "    big_c[dx:dx+nx,dy:dy+ny] = c\n",
    "    return(big_c)\n",
    "\n",
    "def FFT(c,pad=5):\n",
    "    \"\"\"FFT - carry out the complex Fourier transform (with optional padding)\n",
    "    and return the FFT padded array\"\"\"\n",
    "    from numpy.fft import fft2,fftshift,ifft2,ifftshift\n",
    "    psfA = fftshift(fft2(ifftshift(padcplx(c,pad))))\n",
    "    return psfA\n",
    "\n",
    "def IFFT(c,pad=5):\n",
    "    \"\"\"FFT - carry out the complex Fourier transform (with optional padding)\n",
    "    and return the FFT padded array\"\"\"\n",
    "    from numpy.fft import fft2,fftshift,ifft2,ifftshift\n",
    "    psfA = fftshift(ifft2(ifftshift(padcplx(c,pad))))\n",
    "    return psfA\n",
    "\n",
    "def circle_mask(im, xc, yc, rcirc):\n",
    "        ny, nx = im.shape\n",
    "        y,x = np.mgrid[0:nx,0:ny]\n",
    "        r = np.sqrt((x-xc)*(x-xc) + (y-yc)*(y-yc))\n",
    "        return ( (r < rcirc))\n",
    "    \n",
    "\n",
    "def r_theta(im, xc, yc):\n",
    "    # returns the radius rr and the angle phi for point (xc,yc)\n",
    "    ny, nx = im.shape\n",
    "    yp, xp = np.mgrid[0:ny,0:nx]\n",
    "    yp = yp - yc\n",
    "    xp = xp - xc\n",
    "    rr = np.sqrt(np.power(yp,2.) + np.power(xp,2.))\n",
    "    phi = np.arctan2(yp, xp)\n",
    "    return(rr, phi)\n",
    "\n",
    "def phi_ramp(im, npx, npy):\n",
    "    ny, nx = im.shape\n",
    "    ly = np.linspace(-0.5, 0.5, ny) * np.pi * npy * 2\n",
    "    lx = np.linspace(-0.5, 0.5, nx) * np.pi * npx * 2\n",
    "    \n",
    "    x, y = np.meshgrid(lx, ly) \n",
    "    return(x+y)\n",
    "\n",
    "def logit(im, minlog=-6):\n",
    "    # logit - takes the log10 of an image and rounds up tiny logs to minlog so that displC()\n",
    "    #         works better\n",
    "    imout = np.copy(im)\n",
    "    logimout = np.log10(imout)\n",
    "    logimout[(logimout<minlog)] = minlog\n",
    "    return(logimout)"
   ]
  },
  {
   "cell_type": "markdown",
   "metadata": {},
   "source": [
    "** Q1 (2 points):** The first stage is to make a telescope pupil with a diameter of 101 pixels. The pupil is circular with no central obscuration, and the circle must touch all 4 sides of the square. Make this a complex amplitude pupil with an amplitude per pixel of 1 and zero phase, and call this telescope pupil `A`."
   ]
  },
  {
   "cell_type": "code",
   "execution_count": 46,
   "metadata": {
    "collapsed": false
   },
   "outputs": [
    {
     "data": {
      "image/png": "[encoded data removed]",
      "text/plain": [
       "<matplotlib.figure.Figure at 0x7f8984153050>"
      ]
     },
     "metadata": {},
     "output_type": "display_data"
    }
   ],
   "source": [
    "dtel = 101 # pixels\n",
    "\n",
    "# Q1 answer start\n",
    "\n",
    "im = np.zeros((dtel,dtel))\n",
    "#im = np.zeros((dtel,dtel),dtype=complex)\n",
    "#im[:,:] = 0+1j\n",
    "xc    = (dtel-1.) / 2.\n",
    "yc    = (dtel-1.) / 2.\n",
    "rcirc = (dtel-1.) / 2.\n",
    "Pupil = circle_mask(im, xc, yc, rcirc)\n",
    "\n",
    "displC(Pupil)\n",
    "\n",
    "A = padcplx(Pupil)"
   ]
  },
  {
   "cell_type": "markdown",
   "metadata": {},
   "source": [
    "## Conserving flux from Pupil to Focal Planes\n",
    "We should normalise the **intensity** of the telescope pupil to a value of 100.0 intensity units. \n",
    "\n",
    "**Q2 (2 points):** Write a subroutine to calculate the summed intensity of a complex amplitude input image and have it return a real number. Call this routine `Isum()` and use it to normalise the telescope pupil amplitude `A`. Show that you have done the normalisation correctly by showing that `Isum(A) = 100.0` "
   ]
  },
  {
   "cell_type": "code",
   "execution_count": 56,
   "metadata": {
    "collapsed": false
   },
   "outputs": [
    {
     "name": "stdout",
     "output_type": "stream",
     "text": [
      "7825.0\n",
      "100.0\n"
     ]
    }
   ],
   "source": [
    "# Q2 answer here\n",
    "def Isum(im):\n",
    "    I   = (np.abs(im))**2\n",
    "    Sum = np.sum(I)\n",
    "    return Sum\n",
    "print(Isum(A))\n",
    "\n",
    "Norm_factor = 100\n",
    "A_1 = (A / np.sqrt(Isum(A)))*np.sqrt(Norm_factor)\n",
    "\n",
    "print(Isum(A_1))\n"
   ]
  },
  {
   "cell_type": "markdown",
   "metadata": {},
   "source": [
    "** Q3 (2 points):** Calculate the Amplitude Spread Function (ASF) for this telescope pupil with a sampling of 7 (use a variable `nsamp` to hold this, as you may want to easily change this value later on), and call this new complex amplitude `B`. Print out the `Isum` of `B`. Since energy is conserved, you should get `Isum(B) = 100.0` - but you don't. Instead it's a much higher number. There is a normalisation factor that will get you back to `100.0`, and you can calculate it from your input `A`. \n",
    "\n",
    "**HINT:** it's related to how the FFT routine works, and involves a very simple quantity associated with all `numpy` arrays. Look at the `numpy` documentation for all properties associated with a defined numpy variable, and also look at what the scaling factor appears to be.\n",
    "\n",
    "Show that you have normalised B correctly by making `Bn` be the correctly normalised version of `B` and show `Isum(Bn) = 100.0` \n"
   ]
  },
  {
   "cell_type": "code",
   "execution_count": null,
   "metadata": {
    "collapsed": false
   },
   "outputs": [],
   "source": [
    "nsamp = 7\n",
    "\n",
    "# Q3 answer here\n",
    "A_2 = padcplx(A_1, nsamp)\n",
    "B = FFT(A_2)\n",
    "print(Isum(B))\n",
    "#Bn = Isum(B)\n",
    "\n",
    "#print(Isum(Bn))"
   ]
  },
  {
   "cell_type": "markdown",
   "metadata": {},
   "source": [
    "## Calculating encircled energy as a function of radius\n",
    "The energy of the star (or planet) is spread out over the focal plane in an Airy disk of radius $1.22 \\lambda / D$, where our sampling `nsampl` is equal to $\\lambda / D$.\n",
    "\n",
    "** Q4 (4 points):** Write a routine  `ee(im, xap, yap, r_ap)` to calculate the fraction of encircled energy within a circular aperture of radius `r_ap` centered at `(xap, yap)` in a complex image `im`.\n",
    "\n",
    "To improve efficiency, make it so that `r_ap` can be a numpy array of radii, and use a `for` loop with `enumerate()` to return a numpy array of encircled energy values. \n",
    "\n",
    "**HINT** Look at the routine `r_theta()` at the start of the Practicum"
   ]
  },
  {
   "cell_type": "code",
   "execution_count": null,
   "metadata": {
    "collapsed": true
   },
   "outputs": [],
   "source": [
    "def ee(im, xc, yc, r_ap):\n",
    "    \n",
    "# Q4 answer here\n"
   ]
  },
  {
   "cell_type": "markdown",
   "metadata": {},
   "source": [
    "** Q5 (6 points):** Plot out the encircled energy versus increasing aperture radii for the PSF in `B`.\n",
    "\n",
    "Starting with a radius of 1 pixel, go in steps of 1 pixel out to $10 \\lambda/D$. Label the x-axis of the plot in unit of $\\lambda/D$. (Yes, I know I'm changing units on you!)\n",
    "\n",
    "Plot a vertical line at a radius of $1.22 \\lambda/D$.\n",
    "\n",
    "What is the *fraction* of the total energy enclosed within a radius of $1.22 \\lambda/D$? \n",
    "\n",
    "**Sanity check** what should the EE be for very large radii?"
   ]
  },
  {
   "cell_type": "code",
   "execution_count": null,
   "metadata": {
    "collapsed": true
   },
   "outputs": [],
   "source": [
    "# Q5 answer here\n"
   ]
  },
  {
   "cell_type": "markdown",
   "metadata": {},
   "source": [
    "## Coronagraph Simulator\n",
    "\n",
    "Here is a simple optical layout of a telescope, coronagraph, and science imaging camera. The figure is taken from [Sivaramakrishnan and Oppenheimer (2006)](http://adsabs.harvard.edu/abs/2006ApJ...647..620S).\n",
    "\n",
    "<img src=\"coronagraph.png\">\n",
    "\n",
    "\n",
    "  * A is the telescope entrance pupil\n",
    "  * B is the first focal plane\n",
    "  * $m(k)$ is the focal plane coronagraphic mask\n",
    "  * C is the masked first focal plane\n",
    "  * D is the Lyot pupil plane\n",
    "  * $N(x)$ is the Lyot pupil plane coronagraphic mask\n",
    "  * E is the masked Lyot plane\n",
    "  * F is the final focal plane\n",
    "  \n",
    "Many types of coronagraph can be specified with $m(k)$ and $N(x)$, resulting in attenuation for on-axis sources whilst letting as much light from a nearby companion through.\n",
    "\n",
    "The axis of the coronagraph is at  the central pixel `xcen,ycen` of `B`, `C` and `F`, and we will refer to this pixel as being at the origin, i.e. $(x,y)=(0,0)$ for the central pixel.\n",
    "\n",
    "This week we will make a Lyot coronagraph and compare its efficiency at transmitting and rejecting light compared to direct imaging. We define the function `coro()` which produces the final science camera focal plane image `F` and all the intermediate planes. "
   ]
  },
  {
   "cell_type": "code",
   "execution_count": null,
   "metadata": {
    "collapsed": true
   },
   "outputs": [],
   "source": [
    "def coro(A, m, N, nsamp):\n",
    "    B = FFT(A,nsamp)\n",
    "    C = m * B\n",
    "    D = IFFT(C,1)\n",
    "    E = N * D\n",
    "    F = FFT(E,1)\n",
    "\n",
    "    return(B,C,D,E,F)"
   ]
  },
  {
   "cell_type": "markdown",
   "metadata": {},
   "source": [
    "First things first - let's see that `coro()` works by putting in two transmissive masks for `m` and `N`. Remember that both masks will have to be padded to the same size as `B` in order for `coro()` to work. \n",
    "\n",
    "** Q6 (6 points):** Use the telescope pupil `A` with `Isum = 100.0` and `nsamp=7`, and show that the `Isum` of `B`,`C`,`D`,`E` and `F` are all `100.0` (or very close to this, depending on numerical precision). Remember that you will have to correct the intensities according to the relation you found out earlier in the notebook."
   ]
  },
  {
   "cell_type": "code",
   "execution_count": null,
   "metadata": {
    "collapsed": true
   },
   "outputs": [],
   "source": [
    "# Q6 answer here\n"
   ]
  },
  {
   "cell_type": "markdown",
   "metadata": {},
   "source": [
    "We put the star we wish to block on the central axis of the coronagraph - this is done already with telescope pupil `A`, normalised to `Isum(A) = 100.0`.\n",
    "\n",
    "** Q7 (2 points):** Make a copy of `A` using `np.copy()` and call it `A_star`, and use `coro()` to generate the PSF at the first focal plane and call it `B_star`. "
   ]
  },
  {
   "cell_type": "code",
   "execution_count": null,
   "metadata": {
    "collapsed": true
   },
   "outputs": [],
   "source": [
    "# Q7 answer here\n"
   ]
  },
  {
   "cell_type": "markdown",
   "metadata": {},
   "source": [
    "We can now make a planet that is 10000 times fainter **in energy** than the star, and move it off the axis of the coronagraph by adding a tilt in phase across the telescope pupil.\n",
    "\n",
    "** Q8 (6 points):** Make a planet image that is $5 \\lambda / D$ along the +ve x-axis by making a copy of the star's telescope pupil, and adding a suitable ramp of phase to the telescope pupil - call this `A_planet` and using `coro()` and `displC(B_planet, 151)` show that the resultant PSF of the planet in the first focal plane `B` is moved off of the central axis of the coronagraph.\n",
    "\n",
    "**HINT** Go look at `phi_ramp()` and see what it's doing."
   ]
  },
  {
   "cell_type": "code",
   "execution_count": null,
   "metadata": {
    "collapsed": true
   },
   "outputs": [],
   "source": [
    "# Q8 answer here\n"
   ]
  },
  {
   "cell_type": "markdown",
   "metadata": {},
   "source": [
    "The diffracted light from the star forms a **halo** of light in the science camera focal plane `F`. We can compare the halo of light from the star with the flux from the planet at the $5 \\lambda / D$ location. We will do this by plotting the star's PSF and planet PSF and comparing relative fluxes.\n",
    "\n",
    "** Q9 (4 points):** Write a routine `xaxis_energy(im,xr)` that takes a complex image `im`, cuts out the line of pixels from -xr to +xr across the middle of the image (equivalent to $y=0$) and returns the *energy per pixel* along that line."
   ]
  },
  {
   "cell_type": "code",
   "execution_count": null,
   "metadata": {
    "collapsed": true
   },
   "outputs": [],
   "source": [
    "def xaxis_energy(im, xr):\n",
    "# Q9 answer here\n"
   ]
  },
  {
   "cell_type": "markdown",
   "metadata": {},
   "source": [
    "We compare the **direct imaging** case first by looking at the PSFs of the star and the planet in the `B` values.\n",
    "\n",
    "The peak of the PSF of the star is in the middle of the array `B_star`. \n",
    "\n",
    "** Q10 (6 points):** Plot out the `log10` energy of the PSF centered on the axis of the coronagraph along the x axis from -10 to + 10 $\\lambda/D$ . The x-axis should be labelled in units of $\\lambda/D$.\n",
    "\n",
    "You should see that the planet's peak flux is slightly below the stellar halo at $5 \\lambda/D$.\n",
    "\n",
    "Overplot the planet's PSF on the same graph. the Python notebook automatically does this if you run two or more `plt.plot()` commands within the same code cell."
   ]
  },
  {
   "cell_type": "code",
   "execution_count": null,
   "metadata": {
    "collapsed": true
   },
   "outputs": [],
   "source": [
    "# Q10 answer here\n"
   ]
  },
  {
   "cell_type": "markdown",
   "metadata": {},
   "source": [
    "Finally, let's put in a classical Lyot coronagraph!\n",
    "\n",
    "A classical Lyot coronagraph consists of a hard-edged occulter in the first focal plane, followed by a Lyot stop in the second pupil (the Lyot) plane.\n",
    "\n",
    "** Q11 (4 points):** Make a hard edged mask `m_lyot` that has a radius of $3 \\lambda/D$. It should have a transmission of 0 within this radius, and a transmission of 1 outside this radius. Assume there is no phase change with light passing through the mask.\n",
    "\n",
    "Display the effect of the mask `m_lyot` on the planet's PSF `B_planet` by calculating `C_planet` and then use `displC(x, 151)`\n"
   ]
  },
  {
   "cell_type": "code",
   "execution_count": null,
   "metadata": {
    "collapsed": true
   },
   "outputs": [],
   "source": [
    "# Q11 answers here\n"
   ]
  },
  {
   "cell_type": "markdown",
   "metadata": {},
   "source": [
    "Make the Lyot stop `N_lyot` so that it blocks all light outside 0.8 times the diameter of the pupil at location `D` in the coronagraph, and run the coronagraph simulator for both the star and the planet.\n",
    "\n",
    "** Q12 (4 points):** Make the same logarithmic energy plots with the same x-axis range for the final science camera plane `F_star` and `F_planet`. Which object is brighter at $5 \\lambda/ D$ now?"
   ]
  },
  {
   "cell_type": "code",
   "execution_count": null,
   "metadata": {
    "collapsed": true
   },
   "outputs": [],
   "source": [
    "# Q12 answer here\n"
   ]
  },
  {
   "cell_type": "markdown",
   "metadata": {},
   "source": [
    "** Q13 (2 points):** Overplot `B_star` and `F_star` on the same plot. Estimate by eye the suppression factor of the coronagraph by looking at the peak of the PSFs."
   ]
  },
  {
   "cell_type": "code",
   "execution_count": null,
   "metadata": {
    "collapsed": true
   },
   "outputs": [],
   "source": [
    "# Q13 answer here\n"
   ]
  },
  {
   "cell_type": "markdown",
   "metadata": {},
   "source": [
    "** Q14 (2 points): ** Overplot `B_planet` and `F_planet`. What has happened to the Airy rings? Why?\n"
   ]
  },
  {
   "cell_type": "code",
   "execution_count": null,
   "metadata": {
    "collapsed": true
   },
   "outputs": [],
   "source": [
    "# Q14 answer here\n"
   ]
  },
  {
   "cell_type": "markdown",
   "metadata": {},
   "source": [
    "The star and the planet are incoherent sources with respect to each other, and so the image on the sky is the sum of their separate intensities.\n",
    "\n",
    "** Q15 (2 points):** Make an intensity image of the star and planet before the coronagraph, and display it with `displC(logit(x),151)`.\n",
    "\n",
    "Make an image after the coronagraph as well. You should be able to see the planet."
   ]
  },
  {
   "cell_type": "code",
   "execution_count": null,
   "metadata": {
    "collapsed": true
   },
   "outputs": [],
   "source": [
    "# Q15 answer here\n"
   ]
  },
  {
   "cell_type": "markdown",
   "metadata": {
    "collapsed": true
   },
   "source": [
    "** Q16 (8 points):** Adjust the Lyot stop size from 0.5 to 1.0 times the diameter of the pupil, and adjust the diameter of the hard-edged stop so that you optimise the brightness of the planet compared to the stellar halo. What are the problems that you find with small Lyot stops?"
   ]
  },
  {
   "cell_type": "code",
   "execution_count": null,
   "metadata": {
    "collapsed": true
   },
   "outputs": [],
   "source": [
    "# Q16 answer here\n"
   ]
  }
 ],
 "metadata": {
  "kernelspec": {
   "display_name": "Python 2",
   "language": "python",
   "name": "python2"
  },
  "language_info": {
   "codemirror_mode": {
    "name": "ipython",
    "version": 2
   },
   "file_extension": ".py",
   "mimetype": "text/x-python",
   "name": "python",
   "nbconvert_exporter": "python",
   "pygments_lexer": "ipython2",
   "version": "2.7.13"
  }
 },
 "nbformat": 4,
 "nbformat_minor": 1
}
