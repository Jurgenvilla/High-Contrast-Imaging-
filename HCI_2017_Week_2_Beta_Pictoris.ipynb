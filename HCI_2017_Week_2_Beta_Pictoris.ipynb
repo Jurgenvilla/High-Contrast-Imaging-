{
 "cells": [
  {
   "cell_type": "markdown",
   "metadata": {},
   "source": [
    "# HCI Week 2 - The disk around Beta Pictoris\n",
    "*Matthew Kenworthy // Leiden Observatory*\n"
   ]
  },
  {
   "cell_type": "markdown",
   "metadata": {},
   "source": [
    "You will analyse coronagraphic data of Beta Pictoris and investigate which one of three methods gives the clearest signal for the disk.\n",
    "\n",
    "\n",
    "Two images were taken - one of beta Pic and one of a nearby reference star aligned behind the coronagraph. *Data reproduced here by kind permission of Paul Kalas. Observation date 10 October 1993. PSF reference star is HR 919.*\n",
    "\n",
    "**REMEMBER** that coordinates in `numpy` arrays are transposed, so that point $(x,y)$ is at `[y,x]`"
   ]
  },
  {
   "cell_type": "code",
   "execution_count": null,
   "metadata": {
    "collapsed": false
   },
   "outputs": [],
   "source": [
    "import numpy as np\n",
    "import matplotlib.pyplot as plt\n",
    "from astropy.io import fits\n",
    "%matplotlib inline\n",
    "\n",
    "import matplotlib as mpl\n",
    "mpl.rc('image', interpolation='nearest', origin='lower')\n",
    "\n",
    "def zoom(im,x,y,bb):\n",
    "    '''returns a square 2D image cut out from im centered on location (x,y) and with half-width bb'''\n",
    "    return(im[y-bb:y+bb,x-bb:x+bb])\n",
    "\n",
    "def rotate2(img, angle, c_in):\n",
    "    '''rotate input image img by angle degrees about a point c_in\n",
    "    c_in is an np.array((y,x))\n",
    "    returns the rotated image with zeroes for unknown values'''\n",
    "    from scipy.ndimage.interpolation import affine_transform\n",
    "    a=angle*np.pi/180.0\n",
    "    transform=np.array([[np.cos(a),-np.sin(a)],[np.sin(a),np.cos(a)]])\n",
    "    offset=c_in-c_in.dot(transform)\n",
    "    dst=affine_transform(img,transform.T,order=2,offset=offset,output_shape=(img.shape),cval=0.0)\n",
    "    return(dst)"
   ]
  },
  {
   "cell_type": "markdown",
   "metadata": {},
   "source": [
    "\n",
    "Open the images in `ds9` and determine the location of beta Pictoris and write down the coordinates in `xcen` and `ycen`.\n",
    "\n",
    "**Q1 (2 points):** Show that you have the right location for the star by displaying the image with a box of 40 pixels width centered on the star.\n",
    "\n"
   ]
  },
  {
   "cell_type": "code",
   "execution_count": null,
   "metadata": {
    "collapsed": true
   },
   "outputs": [],
   "source": [
    "# loading in the images into the Notebook.\n",
    "\n",
    "pic1, pic1_header = fits.getdata(\"beta_pic_kalas_1995/pic1.fits\", header=True)\n",
    "ref1, ref1_header = fits.getdata(\"beta_pic_kalas_1995/hr9.1.fits\", header=True)"
   ]
  },
  {
   "cell_type": "code",
   "execution_count": null,
   "metadata": {
    "collapsed": false
   },
   "outputs": [],
   "source": [
    "# visually determine the center of beta pic by examining the image in DS9\n",
    "\n",
    "# Q1 answer here\n"
   ]
  },
  {
   "cell_type": "markdown",
   "metadata": {},
   "source": [
    "**Q2 (4 points):** Select a sky background region of 50 by 50 pixels that has no defects or stars in it. Display the region using `imshow()`. Determine background noise using `np.mean()` and `np.std()`. Print out both values to 2 significant figures using the `print()` command and the Pythonic [formatters detailed on this page](https://www.python-course.eu/python3_formatted_output.php)."
   ]
  },
  {
   "cell_type": "code",
   "execution_count": null,
   "metadata": {
    "collapsed": false
   },
   "outputs": [],
   "source": [
    "# Q2 answer here\n"
   ]
  },
  {
   "cell_type": "markdown",
   "metadata": {},
   "source": [
    "## Method 1: Unsharp masking with Top Hat Kernel\n",
    "\n",
    "Read the `astropy` documents on [convolution](http://astropy.readthedocs.org/en/latest/convolution/) and [kernels](http://astropy.readthedocs.org/en/latest/convolution/kernels.html). \n",
    "\n",
    "**Q3 (5 points):** Using the `circle_mask()` routine you wrote last week, make a square image 11 pixels on a side that contains a circle 11 pixels in diameter. Normalise the total flux in the image to 1. This will be your **Top Hat smoothing kernel**. \n",
    "\n",
    "Note that you can also do this with `Tophat2DKernel` below. Convolve the Beta Pic image with this kernel to produce an image that only follows the low spatial frequencies. Subtract this image off the original Beta Pic image, write it out to a FITS file, and look at it in DS9.\n",
    "\n"
   ]
  },
  {
   "cell_type": "code",
   "execution_count": null,
   "metadata": {
    "collapsed": false
   },
   "outputs": [],
   "source": [
    "from astropy.convolution import convolve, Gaussian2DKernel, Tophat2DKernel\n",
    "\n",
    "# Q3 answer here\n",
    "\n",
    "filename = 'usm_tophat.fits'\n",
    "hdu = fits.PrimaryHDU(usm)\n",
    "hdu.writeto(filename, overwrite=True)\n"
   ]
  },
  {
   "cell_type": "markdown",
   "metadata": {},
   "source": [
    "## Unsharp Masking with Gaussian Kernel\n",
    "Now carry out the unsharp masking with the Gaussian Kernel in `Gaussian2DKernel()`. Try different values for the sigma of the convolution kernel from 5 to 0.5, writing out the unsharp masked image first and examining it with ds9. \n",
    "\n",
    "**Q4 (2 points):** What happens to the disk and the halo for different values of the Kernel width?"
   ]
  },
  {
   "cell_type": "code",
   "execution_count": null,
   "metadata": {
    "collapsed": false
   },
   "outputs": [],
   "source": [
    "# write Q4 answer and smoothing for Kernel of 1.5 here\n",
    "\n",
    "filename = 'usm_gaussian.fits'\n",
    "hdu = fits.PrimaryHDU(usm2)\n",
    "hdu.writeto(filename, overwrite=True)\n",
    "\n"
   ]
  },
  {
   "cell_type": "markdown",
   "metadata": {},
   "source": [
    "## Method 2: Subtracting azimuthal averages\n",
    "Here we take a set of concentric rings centered on beta Pic, calculate the mean value in the ring, and subtract it off the beta Pictoris image.\n",
    "\n",
    "In the routing `r_theta` below, we generate an image with radial distance `r` and angle from the x-axis `\\phi` that we can use to make more masks."
   ]
  },
  {
   "cell_type": "code",
   "execution_count": null,
   "metadata": {
    "collapsed": false
   },
   "outputs": [],
   "source": [
    "\n",
    "# make circular rings\n",
    "\n",
    "def r_theta(im, xc, yc):\n",
    "    '''make a radius mask'''\n",
    "    # returns the radius rr and the angle phi for point (xc,yc)\n",
    "    ny, nx = im.shape\n",
    "    yp, xp = np.mgrid[0:ny,0:nx]\n",
    "    yp = yp - yc\n",
    "    xp = xp - xc\n",
    "    rr = np.sqrt(np.power(yp,2.) + np.power(xp,2.))\n",
    "    phi = np.arctan2(yp, xp)\n",
    "    return(rr, phi)\n",
    "\n",
    "# show what it produces with a demonstration image\n",
    "\n",
    "im1 = np.zeros((10,20))\n",
    "r,t = r_theta(im1, 10,5)\n",
    "\n",
    "plt.imshow(r)"
   ]
  },
  {
   "cell_type": "code",
   "execution_count": null,
   "metadata": {
    "collapsed": false
   },
   "outputs": [],
   "source": [
    "mask = (r > 6) * (r < 9)\n",
    "plt.imshow(mask)"
   ]
  },
  {
   "cell_type": "markdown",
   "metadata": {},
   "source": [
    "We can now make a routine that makes several concentric rings in one mask image, and can then use this as a mask for selecting successively larger rings in each image of beta Pictoris. An example of the output is shown below. Look at the `for` loop in the routine, and look at how `enumerate()` generates index values in `i`.\n",
    "\n",
    "**NOTE** there is a way to generate this image *without* using a `for` loop..."
   ]
  },
  {
   "cell_type": "code",
   "execution_count": null,
   "metadata": {
    "collapsed": false
   },
   "outputs": [],
   "source": [
    "im2 = np.zeros((40,100))\n",
    "\n",
    "def rings(im, x, y, r_rings):\n",
    "    # makes a mask for rings of different radii specified in r_rings\n",
    "    # and centre (x,y)\n",
    "    # invalid values are -1\n",
    "    # first, second, third... ring has value (0, 1, 2, ....)\n",
    "    # ring 0 is from r_rings[0] to r_rings[1]\n",
    "    # ring 1 is from r_rings[1] to r_rings[2]\n",
    "    im_rings = np.zeros_like(im) - 1.\n",
    "    \n",
    "    # make r_inner and r_outer\n",
    "    r_inner = r_rings[0:-1]\n",
    "    r_outer = r_rings[1:]\n",
    "    \n",
    "    r, t = r_theta(im_rings, x, y)\n",
    "    for i, (rin, rout) in enumerate(zip(r_inner,r_outer)):\n",
    "        im_rings[(r >= rin) * (r < rout)] = i\n",
    "\n",
    "\n",
    "    r_middle = (r_inner + r_outer) / 2.\n",
    "    return(im_rings, r_middle)\n",
    "\n",
    "r_rings = np.array([0,10,20,30,40,50]) # 6 points, 5 bins\n",
    "\n",
    "im_rin, r_radius = rings(im2,10,10, r_rings)\n",
    "# test that rings are complete and complementary\n",
    "plt.imshow(im_rin)\n",
    "\n",
    "print (r_radius)\n",
    "\n",
    "nbins = r_radius.size\n",
    "print (nbins)"
   ]
  },
  {
   "cell_type": "code",
   "execution_count": null,
   "metadata": {
    "collapsed": false
   },
   "outputs": [],
   "source": [
    "r_rings = np.array([0,10,20,30,40,50]) # 6 points, 5 bins\n",
    "\n",
    "im_rings, r_radius = rings(pic1, xcen, ycen, r_rings)\n",
    "\n",
    "# take mean, median and subtract off from 0 to 20 arcsec\n",
    "\n",
    "r_mean = np.zeros_like(r_radius)\n",
    "r_rms  = np.zeros_like(r_radius)\n",
    "\n",
    "# copy ring 4 to blank image\n",
    "\n",
    "im_test = np.zeros_like(pic1)\n",
    "im_test[(im_rings == 3)] = pic1[(im_rings == 3)]\n",
    "\n",
    "plt.imshow(im_test)"
   ]
  },
  {
   "cell_type": "markdown",
   "metadata": {},
   "source": [
    "** Q5 (6 points):** Make a set of rings using `np.linspace()` with radii from 0 to 200. Vary the number of rings from 10 to 100, and then subtract off the `mean()` of each ring to produce an output image that you can examine with `ds9`."
   ]
  },
  {
   "cell_type": "code",
   "execution_count": null,
   "metadata": {
    "collapsed": false
   },
   "outputs": [],
   "source": [
    "# Q5 answer here\n",
    "\n",
    "filename = 'pic_ringsubtract.fits'\n",
    "hdu = fits.PrimaryHDU(bd)\n",
    "hdu.writeto(filename, overwrite=True)\n"
   ]
  },
  {
   "cell_type": "markdown",
   "metadata": {},
   "source": [
    "## Method 3: Subtract off a reference star\n",
    "\n",
    "We load in another image of a nearby refence star with no disk around it, scale it and subtract it off. The exposure time of the reference star and its brightness may not be the same as that of beta Pictoris, so you will have to experiment to get the right scaling factor.\n",
    "\n",
    "\n",
    "**Q6 (2 points):** Find the best scaling factor, ccording to your best judgement."
   ]
  },
  {
   "cell_type": "code",
   "execution_count": null,
   "metadata": {
    "collapsed": false
   },
   "outputs": [],
   "source": [
    "# Q6 answer here\n",
    "\n",
    "filename = 'pic_refsub.fits'\n",
    "hdu = fits.PrimaryHDU(pic_delt)\n",
    "hdu.writeto(filename, overwrite=True)"
   ]
  },
  {
   "cell_type": "markdown",
   "metadata": {},
   "source": [
    "## Displaying your best image of the Beta Pic disk\n",
    "\n",
    "Display one of the three methods you have tested today, in a box that is about 200 pixels wide and set the image colour range from -5 to +10.\n",
    "\n",
    "Rotate the image of beta Pictoris so that the disk is horiztontal, and label the plot in units of Astronomical Units. **HINT** look at the options for `imshow()` that include `extent` and `vmin` and `vmax`.\n",
    "\n",
    "**Q7 (3 points):** What is the greatest extent of the disk in AU?\n",
    "\n",
    "Are both sides of the disk the same size?\n",
    "\n",
    "At what inner radius (in AU) would you *trust* the data? **HINT** where do the PSF removal residuals dominate?\n"
   ]
  },
  {
   "cell_type": "code",
   "execution_count": null,
   "metadata": {
    "collapsed": false,
    "scrolled": true
   },
   "outputs": [],
   "source": [
    "# North should be up, east left, pixel scale 0.41”/pix.\n",
    "pscale = 0.41 # arcsec/pixel\n",
    "dist = 19.44 # parsecs\n",
    "\n",
    "# END Q7 answers\n"
   ]
  }
 ],
 "metadata": {
  "kernelspec": {
   "display_name": "Python [default]",
   "language": "python",
   "name": "python3"
  },
  "language_info": {
   "codemirror_mode": {
    "name": "ipython",
    "version": 3
   },
   "file_extension": ".py",
   "mimetype": "text/x-python",
   "name": "python",
   "nbconvert_exporter": "python",
   "pygments_lexer": "ipython3",
   "version": "3.5.2"
  }
 },
 "nbformat": 4,
 "nbformat_minor": 1
}
